{
 "cells": [
  {
   "cell_type": "markdown",
   "metadata": {},
   "source": [
    "Release Notes\n",
    "=============\n",
    "\n",
    "Version 0.3 (November 2020)\n",
    "--------------------------\n",
    "### New Features ###\n",
    "* Added the `cycles` module to detect, time-normalize and stack cycles (e.g., gait cycles, wheelchair propulsion cycles, etc.)\n",
    "* Added the `pushrimkinetics` module to read files from instrumented wheelchair wheels, reconstruct the pushrim kinetics,\n",
    "  remove dynamic offsets in kinetic signals, and perform speed and power calculation for analysing spatiotemporal and kinetic\n",
    "  parameters of wheelchair propulsion.\n",
    "* Added lab mode to allow importing ktk without changing defaults.\n",
    "* Added `ktk.filters.deriv()` to derivate TimeSeries.\n",
    "* Added `ktk.filters.median()`, which is a running median filter function.\n",
    "\n",
    "### Improvements ###\n",
    "* `TimeSeries.plot()` now shows the event occurrences besides the event names.\n",
    "* Nicer tutorial for the `filters` module.\n",
    "* Improved unit tests for the `filters` module.\n",
    "\n",
    "### Breaking Changes ###\n",
    "* The module name has been changed from `ktk` to `kineticstoolkit`. Importing using `import ktk` is now deprecated and the standard way to import is now either `import kineticstoolkit as ktk` or `import kineticstoolkit.lab as ktk`.\n",
    "* Now importing Kinetics Toolkit does not change IPython's representation of dicts or matplotlib's defaults. This allows using ktk's functions without modifying the current working environment. The old behaviour is now the lab mode and is the recommended way to import Kinetics Toolkit in an IPython-based environment: `import kineticstoolkit.lab as ktk`.\n",
    "\n",
    "Version 0.2 (August 2020)\n",
    "-------------------------\n",
    "### New Features ###\n",
    "* Added the functions `ktk.load` and `ktk.save`.\n",
    "* Introduced the `ktk.zip` file format.\n",
    "* Added the `gui` module to show messages, input dialogs and file/folder pickers.\n",
    "* Added the `filters` module with TimeSeries wrappers for scipy's butterworth and savitsky-golay filters.\n",
    "* Added interactive methods to TimeSeries: `TimeSeries.ui_add_event()`, `TimeSeries.ui_get_ts_between_clicks()` and `TimeSeries.ui_sync()` (experimental).\n",
    "* Added `TimeSeries.remove_event()` method.\n",
    "* Added `TimeSeries.resample()` (experimental).\n",
    "\n",
    "### Improvements ###\n",
    "* Updated the documentation system using sphinx and jupyter-lab.\n",
    "* Improved performance of `TimeSeries.from_dataframe()`\n",
    "* ktk is now typed.\n",
    "\n",
    "### Breaking Changes ###\n",
    "* `TimeSeries.from_dataframe()` is now a class function and not an instance method anymore. Therefore we need to call `ktk.TimeSeries.from_dataframe(dataframe)` instead of `ktk.TimeSeries().from_dataframe(dataframe)`.\n",
    "* Now depends on python 3.8 instead of 3.7.\n",
    "\n",
    "Version 0.1 (May 2020)\n",
    "----------------------\n",
    "### New Features ###\n",
    "* Added the `TimeSeries` class.\n",
    "* Added the `kinematics` module, to read c3d and n3d files.\n",
    "* Added the `Player` class, to view markers in 3d."
   ]
  }
 ],
 "metadata": {
  "kernelspec": {
   "display_name": "Python 3",
   "language": "python",
   "name": "python3"
  },
  "language_info": {
   "codemirror_mode": {
    "name": "ipython",
    "version": 3
   },
   "file_extension": ".py",
   "mimetype": "text/x-python",
   "name": "python",
   "nbconvert_exporter": "python",
   "pygments_lexer": "ipython3",
   "version": "3.8.6"
  }
 },
 "nbformat": 4,
 "nbformat_minor": 4
}