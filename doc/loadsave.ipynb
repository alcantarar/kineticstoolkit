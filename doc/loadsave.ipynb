{
 "cells": [
  {
   "cell_type": "markdown",
   "metadata": {},
   "source": [
    "Saving and loading\n",
    "==================\n",
    "\n",
    "Contrarily to Matlab with its `.mat` file, python does not come with a single standard way to save data. To ease saving and sharing data, Kinetics Toolkit provides [two functions](api/kineticstoolkit.loadsave.rst) that load and save its own `.ktk.zip` format.\n",
    "\n",
    "Let's create a dummy variable with some stuff in it."
   ]
  },
  {
   "cell_type": "code",
   "execution_count": 1,
   "metadata": {},
   "outputs": [],
   "source": [
    "import kineticstoolkit.lab as ktk\n",
    "import numpy as np\n",
    "import zipfile\n",
    "import json\n",
    "\n",
    "variable1 = {'some_array': np.arange(0, 5, 0.5),\n",
    "             'some_timeseries': ktk.TimeSeries(\n",
    "                 time=np.arange(10),\n",
    "                 data={\n",
    "                     'data1': np.arange(10),\n",
    "                     'data2': np.arange(10) ** 2\n",
    "                 })\n",
    "            }"
   ]
  },
  {
   "cell_type": "markdown",
   "metadata": {},
   "source": [
    "Saving a variable\n",
    "-----------------"
   ]
  },
  {
   "cell_type": "code",
   "execution_count": 2,
   "metadata": {},
   "outputs": [],
   "source": [
    "ktk.save('filename.ktk.zip', variable1)"
   ]
  },
  {
   "cell_type": "markdown",
   "metadata": {},
   "source": [
    "Loading a variable\n",
    "------------------"
   ]
  },
  {
   "cell_type": "code",
   "execution_count": 3,
   "metadata": {},
   "outputs": [],
   "source": [
    "variable2 = ktk.load('filename.ktk.zip')"
   ]
  },
  {
   "cell_type": "markdown",
   "metadata": {},
   "source": [
    "As expected, `variable2` is equal to `variable1`:"
   ]
  },
  {
   "cell_type": "code",
   "execution_count": 4,
   "metadata": {},
   "outputs": [
    {
     "data": {
      "text/plain": [
       "{\n",
       "           'some_array': <array of shape (10,)>,\n",
       "      'some_timeseries': TimeSeries with attributes: data: <dict with 2 entries>, ...\n",
       "}"
      ]
     },
     "execution_count": 1,
     "metadata": {},
     "output_type": "execute_result"
    }
   ],
   "source": [
    "variable1"
   ]
  },
  {
   "cell_type": "code",
   "execution_count": 5,
   "metadata": {},
   "outputs": [
    {
     "data": {
      "text/plain": [
       "{\n",
       "           'some_array': <array of shape (10,)>,\n",
       "      'some_timeseries': TimeSeries with attributes: data: <dict with 2 entries>, ...\n",
       "}"
      ]
     },
     "execution_count": 1,
     "metadata": {},
     "output_type": "execute_result"
    }
   ],
   "source": [
    "variable2"
   ]
  },
  {
   "cell_type": "markdown",
   "metadata": {},
   "source": [
    "Supported types\n",
    "---------------\n",
    "\n",
    "`ktk.save` supports any combination of the following types:\n",
    "\n",
    "- dict containing any supported class\n",
    "- list containing any supported class\n",
    "- str\n",
    "- int\n",
    "- float\n",
    "- True\n",
    "- False\n",
    "- None\n",
    "- numpy.array\n",
    "- pandas.DataFrame\n",
    "- pandas.Series\n",
    "- ktk.TimeSeries"
   ]
  },
  {
   "cell_type": "markdown",
   "metadata": {},
   "source": [
    "The .ktk.zip format\n",
    "-------------------\n",
    "\n",
    "The `.ktk.zip` format is built to be as portable and simple as possible. It is a standard zip file that contains two JSON files:\n",
    "\n",
    "- metadata.json: The file metadata such as the save date, the computer's operating system, etc.\n",
    "- data.json: The data saved as a standard json file. The data types that are not supported natively by the JSON file format (e.g., numpy, pandas and ktk objects) are converted to supported objects so that they are fully readable in other environments such as Matlab.\n",
    "\n",
    "For example, let's examine the file we just saved:"
   ]
  },
  {
   "cell_type": "code",
   "execution_count": 6,
   "metadata": {},
   "outputs": [
    {
     "name": "stdout",
     "output_type": "stream",
     "text": [
      "{\n",
      "\t\"Software\": \"Kinetics Toolkit\",\n",
      "\t\"Version\": \"master\",\n",
      "\t\"Computer\": \"Mac\",\n",
      "\t\"FileFormat\": 1.0,\n",
      "\t\"SaveDate\": \"2020-10-23\",\n",
      "\t\"SaveTime\": \"09:41:49\",\n",
      "\t\"User\": \"felix\"\n",
      "}\n"
     ]
    }
   ],
   "source": [
    "archive = zipfile.ZipFile('filename.ktk.zip', 'r')\n",
    "print(archive.read('metadata.json').decode())"
   ]
  },
  {
   "cell_type": "code",
   "execution_count": 7,
   "metadata": {},
   "outputs": [
    {
     "name": "stdout",
     "output_type": "stream",
     "text": [
      "{\n",
      "\t\"some_array\": {\n",
      "\t\t\"class__\": \"numpy.array\",\n",
      "\t\t\"value\": [\n",
      "\t\t\t0.0,\n",
      "\t\t\t0.5,\n",
      "\t\t\t1.0,\n",
      "\t\t\t1.5,\n",
      "\t\t\t2.0,\n",
      "\t\t\t2.5,\n",
      "\t\t\t3.0,\n",
      "\t\t\t3.5,\n",
      "\t\t\t4.0,\n",
      "\t\t\t4.5\n",
      "\t\t]\n",
      "\t},\n",
      "\t\"some_timeseries\": {\n",
      "\t\t\"class__\": \"ktk.TimeSeries\",\n",
      "\t\t\"time\": [\n",
      "\t\t\t0,\n",
      "\t\t\t1,\n",
      "\t\t\t2,\n",
      "\t\t\t3,\n",
      "\t\t\t4,\n",
      "\t\t\t5,\n",
      "\t\t\t6,\n",
      "\t\t\t7,\n",
      "\t\t\t8,\n",
      "\t\t\t9\n",
      "\t\t],\n",
      "\t\t\"time_info\": {\n",
      "\t\t\t\"Unit\": \"s\"\n",
      "\t\t},\n",
      "\t\t\"data_info\": {},\n",
      "\t\t\"data\": {\n",
      "\t\t\t\"data1\": [\n",
      "\t\t\t\t0,\n",
      "\t\t\t\t1,\n",
      "\t\t\t\t2,\n",
      "\t\t\t\t3,\n",
      "\t\t\t\t4,\n",
      "\t\t\t\t5,\n",
      "\t\t\t\t6,\n",
      "\t\t\t\t7,\n",
      "\t\t\t\t8,\n",
      "\t\t\t\t9\n",
      "\t\t\t],\n",
      "\t\t\t\"data2\": [\n",
      "\t\t\t\t0,\n",
      "\t\t\t\t1,\n",
      "\t\t\t\t4,\n",
      "\t\t\t\t9,\n",
      "\t\t\t\t16,\n",
      "\t\t\t\t25,\n",
      "\t\t\t\t36,\n",
      "\t\t\t\t49,\n",
      "\t\t\t\t64,\n",
      "\t\t\t\t81\n",
      "\t\t\t]\n",
      "\t\t},\n",
      "\t\t\"events\": []\n",
      "\t}\n",
      "}\n"
     ]
    }
   ],
   "source": [
    "print(archive.read('data.json').decode())"
   ]
  },
  {
   "cell_type": "markdown",
   "metadata": {},
   "source": [
    "Loading a .ktk.zip in Matlab\n",
    "----------------------------\n",
    "\n",
    "    % Create a temporary folder to unzip to\n",
    "    mkdir('temp');\n",
    "    unzip(filename, 'temp');\n",
    "\n",
    "    % Load the file contents\n",
    "    data = jsondecode(fileread('temp/data.json'));\n",
    "    metadata = jsondecode(fileread('temp/metadata.json'));\n",
    "\n",
    "Since the types are not the same between python, JSON and Matlab, here is how Matlab will reconstruct the following python types:\n",
    "\n",
    "| Python                           | Matlab                       |\n",
    "|----------------------------------|------------------------------|\n",
    "| None                             | NaN                          |\n",
    "| True, False                      | true, false                  |\n",
    "| int, float                       | double                       |\n",
    "| str                              | char                         |\n",
    "| dict                             | struct                       |\n",
    "| list of different data types     | cell array                   |\n",
    "| list of boolean                  | array of logical             |\n",
    "| list of int or float             | array of double              |\n",
    "| list of str                      | cell array of char           |\n",
    "| list of dict, same field names   | structure array              |\n",
    "| list of dict, diff field names   | cell array of struct         |\n",
    "| numpy.array                      | array of double              |\n",
    "| ktk.TimeSeries                   | struct                       |\n",
    "| complex                          | struct with real and imag    |\n",
    "\n",
    "\n",
    "    \n",
    "*tuples are saved as lists in JSON."
   ]
  },
  {
   "cell_type": "markdown",
   "metadata": {},
   "source": [
    "For more information on saving and loading, please check the [API Reference for the loadsave module](api/kineticstoolkit.loadsave.rst)."
   ]
  }
 ],
 "metadata": {
  "kernelspec": {
   "display_name": "Python 3",
   "language": "python",
   "name": "python3"
  },
  "language_info": {
   "codemirror_mode": {
    "name": "ipython",
    "version": 3
   },
   "file_extension": ".py",
   "mimetype": "text/x-python",
   "name": "python",
   "nbconvert_exporter": "python",
   "pygments_lexer": "ipython3",
   "version": "3.8.6"
  }
 },
 "nbformat": 4,
 "nbformat_minor": 4
}