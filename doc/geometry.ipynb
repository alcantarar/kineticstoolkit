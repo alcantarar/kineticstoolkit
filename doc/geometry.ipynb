{
 "cells": [
  {
   "cell_type": "markdown",
   "metadata": {},
   "source": [
    "Geometry\n",
    "========\n",
    "\n",
    ".. warning:: This module is in development and has not been released.\n",
    "\n",
    "The [geometry](api/kineticstoolkit.geometry.rst) module simplifies the calculation of linear algebric operations on\n",
    "series of points, vectors and transformation matrices.\n",
    "\n",
    "Array convention\n",
    "----------------------\n",
    "\n",
    "Every point, vector or matrix is considered as a series, where the dimensions\n",
    "of the array are:\n",
    "\n",
    "- First dimension (N) : time. Constants are also reprented as series: they have only one data on the first dimension.\n",
    "\n",
    "- Second dimension (4) : point/vector coordinates, or matrix line.\n",
    "\n",
    "- Third dimension (M, optional) : point index (for sets of point), or matrix column.\n",
    "\n",
    "For example, floats, points, vectors, sets and matrices are expressed as following:\n",
    "\n",
    "**Single float**\n",
    "\n",
    "    [a]\n",
    "    \n",
    "    value = array[0]\n",
    "\n",
    "**Series of floats**\n",
    "\n",
    "    [a(t0), a(t1), a(t2), ...]\n",
    "    \n",
    "    value = array[i_time]\n",
    "\n",
    "**Series of points**\n",
    "\n",
    "    [[x(t0), y(t0), z(t0),  1.],\n",
    "     [y(t1), y(t1), z(t1),  1.],\n",
    "     [y(t2), y(t2), z(t2),  1.],\n",
    "     [ ... ,  ... ,  ... , ...]]\n",
    "     \n",
    "    value = array[i_time, i_coordinate]\n",
    "\n",
    "**Series of vectors**\n",
    "\n",
    "    [[x(t0), y(t0), z(t0),  0.],\n",
    "     [y(t1), y(t1), z(t1),  0.],\n",
    "     [y(t2), y(t2), z(t2),  0.],\n",
    "     [ ... ,  ... ,  ... , ...]]\n",
    "     \n",
    "    value = array[i_time, i_coordinate]\n",
    "\n",
    "\n",
    "**Series of sets of point**\n",
    "\n",
    "    [[[x1(t1), x2(t1), x3(t1), x4(t1)],\n",
    "      [y1(t1), y2(t1), y3(t1), y4(t1)],\n",
    "      [z1(t1), z2(t1), z3(t1), z4(t1)],\n",
    "      [  1.,     1.,     1.,      1. ]],\n",
    "\n",
    "     [[x1(t2), x2(t2), x3(t2), x4(t2)],\n",
    "      [y1(t2), y2(t2), y3(t2), y4(t2)],\n",
    "      [z1(t2), z2(t2), z3(t2), z4(t2)],\n",
    "      [  1.,     1.,     1.,     1.  ]],\n",
    "      \n",
    "      ...\n",
    "     ]\n",
    "     \n",
    "    value = array[i_time, i_coordinate, i_point]\n",
    "\n",
    "**Series of matrices**\n",
    "\n",
    "    [[[R11(t1), R12(t1), R13(t1), Tx(t1)],\n",
    "      [R21(t1), R22(t1), R23(t1), Ty(t1)],\n",
    "      [R31(t1), R32(t1), R33(t1), Tz(t1)],\n",
    "      [   0.,      0.,      0.,     1.  ]],\n",
    "\n",
    "     [[R11(t2), R12(t2), R13(t2), Tx(t2)],\n",
    "      [R21(t2), R22(t2), R23(t2), Ty(t2)],\n",
    "      [R31(t2), R32(t2), R33(t2), Tz(t2)],\n",
    "      [   0.,      0.,      0.,     1.  ]],\n",
    "\n",
    "      ...\n",
    "     ]\n",
    "     \n",
    "    value = array[i_time, i_row, i_column]"
   ]
  },
  {
   "cell_type": "code",
   "execution_count": 1,
   "metadata": {},
   "outputs": [],
   "source": [
    "import kineticstoolkit.lab as ktk\n",
    "import numpy as np"
   ]
  },
  {
   "cell_type": "markdown",
   "metadata": {},
   "source": [
    "Matrix multiplication\n",
    "-------------------------\n",
    "\n",
    "To facilitate the multiplication of series, kineticstoolkit.geometry provides a `matmul` function that matches both matrices' time dimensions before applying the numpy's @ or * operator accordingly on each time iteration. Therefore, when dealing with series of floats, vectors, points or matrices, it is advisable to use kineticstoolkit.geometry's `matmul` instead of the @ operator, which will garranty to follow ktk's array convention. For example:\n",
    "\n",
    "**Matrix multiplication between a matrix and a series of points**"
   ]
  },
  {
   "cell_type": "code",
   "execution_count": 2,
   "metadata": {},
   "outputs": [
    {
     "data": {
      "text/plain": [
       "array([[0., 1., 0., 1.],\n",
       "       [1., 1., 0., 1.],\n",
       "       [2., 1., 0., 1.]])"
      ]
     },
     "execution_count": 1,
     "metadata": {},
     "output_type": "execute_result"
    }
   ],
   "source": [
    "# Single rigid transformation matrix\n",
    "T = np.array([[[1, 0, 0, 0],\n",
    "               [0, 1, 0, 0],\n",
    "               [0, 0, 1, 0],\n",
    "               [0, 0, 0, 1]]])\n",
    "\n",
    "# Series of 3 points\n",
    "points = np.array([[0, 1, 0, 1],\n",
    "                   [1, 1, 0, 1],\n",
    "                   [2, 1, 0, 1]])\n",
    "\n",
    "ktk.geometry.matmul(T, points)"
   ]
  },
  {
   "cell_type": "markdown",
   "metadata": {},
   "source": [
    "**Multiplication between a series of floats and a series of vectors**"
   ]
  },
  {
   "cell_type": "code",
   "execution_count": 3,
   "metadata": {},
   "outputs": [
    {
     "data": {
      "text/plain": [
       "array([[0. , 0. , 0. , 0. ],\n",
       "       [1. , 0.5, 0. , 0. ],\n",
       "       [3. , 1. , 0. , 0. ],\n",
       "       [6. , 1.5, 0. , 0. ]])"
      ]
     },
     "execution_count": 1,
     "metadata": {},
     "output_type": "execute_result"
    }
   ],
   "source": [
    "# Series of 3 floats\n",
    "floats = np.array([0., 0.5, 1., 1.5])\n",
    "\n",
    "# Series of 3 vectors\n",
    "vectors = np.array([[1, 1, 0, 0],\n",
    "                    [2, 1, 0, 0],\n",
    "                    [3, 1, 0, 0],\n",
    "                    [4, 1, 0, 0]])\n",
    "\n",
    "ktk.geometry.matmul(floats, vectors)"
   ]
  },
  {
   "cell_type": "markdown",
   "metadata": {},
   "source": [
    "**Dot product between a series of points and a single point**"
   ]
  },
  {
   "cell_type": "code",
   "execution_count": 4,
   "metadata": {},
   "outputs": [
    {
     "data": {
      "text/plain": [
       "array([4., 6., 8.])"
      ]
     },
     "execution_count": 1,
     "metadata": {},
     "output_type": "execute_result"
    }
   ],
   "source": [
    "# Series of 3 points\n",
    "points = np.array([[0, 1, 0, 1],\n",
    "                   [1, 1, 0, 1],\n",
    "                   [2, 1, 0, 1]])\n",
    "\n",
    "# Single point\n",
    "point = np.array([[2, 3, 4, 1]])\n",
    "\n",
    "ktk.geometry.matmul(points, point)"
   ]
  },
  {
   "cell_type": "markdown",
   "metadata": {},
   "source": [
    "Creating series of rotation matrices\n",
    "------------------------------------\n",
    "The function `kineticstoolkit.geometry.create_rotation_matrices` allows creating series of Nx4x4 matrices around a given axis. For example, this command creates a rotation matrix of 90 degrees around the x axis. Note that the angle argument is a list or an array, to comply with the `kineticstoolkit.geometry`'s convention above."
   ]
  },
  {
   "cell_type": "code",
   "execution_count": 5,
   "metadata": {},
   "outputs": [
    {
     "data": {
      "text/plain": [
       "array([[[ 1.,  0.,  0.,  0.],\n",
       "        [ 0.,  0., -1.,  0.],\n",
       "        [ 0.,  1.,  0.,  0.],\n",
       "        [ 0.,  0.,  0.,  1.]]])"
      ]
     },
     "execution_count": 1,
     "metadata": {},
     "output_type": "execute_result"
    }
   ],
   "source": [
    "ktk.geometry.create_rotation_matrices('x', [np.pi/2])"
   ]
  },
  {
   "cell_type": "markdown",
   "metadata": {},
   "source": [
    "As another example, this will create a series of 100 rotation matrices around the z axis, from 0 to\n",
    "360 degrees:"
   ]
  },
  {
   "cell_type": "code",
   "execution_count": 6,
   "metadata": {},
   "outputs": [
    {
     "data": {
      "text/plain": [
       "array([[[ 1.        , -0.        ,  0.        ,  0.        ],\n",
       "        [ 0.        ,  1.        ,  0.        ,  0.        ],\n",
       "        [ 0.        ,  0.        ,  1.        ,  0.        ],\n",
       "        [ 0.        ,  0.        ,  0.        ,  1.        ]],\n",
       "\n",
       "       [[ 0.99798668, -0.06342392,  0.        ,  0.        ],\n",
       "        [ 0.06342392,  0.99798668,  0.        ,  0.        ],\n",
       "        [ 0.        ,  0.        ,  1.        ,  0.        ],\n",
       "        [ 0.        ,  0.        ,  0.        ,  1.        ]],\n",
       "\n",
       "       [[ 0.99195481, -0.12659245,  0.        ,  0.        ],\n",
       "        [ 0.12659245,  0.99195481,  0.        ,  0.        ],\n",
       "        [ 0.        ,  0.        ,  1.        ,  0.        ],\n",
       "        [ 0.        ,  0.        ,  0.        ,  1.        ]],\n",
       "\n",
       "       ...,\n",
       "\n",
       "       [[ 0.99195481,  0.12659245,  0.        ,  0.        ],\n",
       "        [-0.12659245,  0.99195481,  0.        ,  0.        ],\n",
       "        [ 0.        ,  0.        ,  1.        ,  0.        ],\n",
       "        [ 0.        ,  0.        ,  0.        ,  1.        ]],\n",
       "\n",
       "       [[ 0.99798668,  0.06342392,  0.        ,  0.        ],\n",
       "        [-0.06342392,  0.99798668,  0.        ,  0.        ],\n",
       "        [ 0.        ,  0.        ,  1.        ,  0.        ],\n",
       "        [ 0.        ,  0.        ,  0.        ,  1.        ]],\n",
       "\n",
       "       [[ 1.        ,  0.        ,  0.        ,  0.        ],\n",
       "        [-0.        ,  1.        ,  0.        ,  0.        ],\n",
       "        [ 0.        ,  0.        ,  1.        ,  0.        ],\n",
       "        [ 0.        ,  0.        ,  0.        ,  1.        ]]])"
      ]
     },
     "execution_count": 1,
     "metadata": {},
     "output_type": "execute_result"
    }
   ],
   "source": [
    "ktk.geometry.create_rotation_matrices('z', np.linspace(0, 2 * np.pi, 100))"
   ]
  },
  {
   "cell_type": "markdown",
   "metadata": {},
   "source": [
    "Creating series of reference frames\n",
    "-----------------------\n",
    "Let's say we have the position of three markers, and we want to create a reference frame based on these markers. This is the aim of the `create_reference_frames` function.\n",
    "\n",
    "If the markers are at these positions (0, 0, 0), (1, 0, 0) and (0, 1, 0):"
   ]
  },
  {
   "cell_type": "code",
   "execution_count": 7,
   "metadata": {},
   "outputs": [],
   "source": [
    "global_markers = np.array(\n",
    "    [[[0., 1., 0.],\n",
    "      [0., 0., 1.],\n",
    "      [0., 0., 0.],\n",
    "      [1., 1., 1.]]])"
   ]
  },
  {
   "cell_type": "markdown",
   "metadata": {},
   "source": [
    "Now we can create a reference frame based on these three markers. Please consult the [API reference](api/kineticstoolkit.geometry.rst) for the different marker configurations available for the creation of reference frames."
   ]
  },
  {
   "cell_type": "code",
   "execution_count": 8,
   "metadata": {},
   "outputs": [
    {
     "data": {
      "text/plain": [
       "array([[[-0.70710678,  0.70710678,  0.        ,  0.33333333],\n",
       "        [-0.70710678, -0.70710678,  0.        ,  0.33333333],\n",
       "        [ 0.        ,  0.        ,  1.        ,  0.        ],\n",
       "        [ 0.        ,  0.        ,  0.        ,  1.        ]]])"
      ]
     },
     "execution_count": 1,
     "metadata": {},
     "output_type": "execute_result"
    }
   ],
   "source": [
    "T = ktk.geometry.create_reference_frames(global_markers)\n",
    "\n",
    "T"
   ]
  },
  {
   "cell_type": "markdown",
   "metadata": {},
   "source": [
    "Calculating local coordinates\n",
    "---------------------\n",
    "We now have a reference frame defined from three markers. If we are interested to know the local position of these markers in the new-created frame, we can use the function `get_local_coordinates`."
   ]
  },
  {
   "cell_type": "code",
   "execution_count": 9,
   "metadata": {},
   "outputs": [
    {
     "data": {
      "text/plain": [
       "array([[[ 0.47140452, -0.23570226, -0.23570226],\n",
       "        [ 0.        ,  0.70710678, -0.70710678],\n",
       "        [ 0.        ,  0.        ,  0.        ],\n",
       "        [ 1.        ,  1.        ,  1.        ]]])"
      ]
     },
     "execution_count": 1,
     "metadata": {},
     "output_type": "execute_result"
    }
   ],
   "source": [
    "local_markers = ktk.geometry.get_local_coordinates(global_markers, T)\n",
    "\n",
    "local_markers"
   ]
  },
  {
   "cell_type": "markdown",
   "metadata": {},
   "source": [
    "Calculating global coordinates\n",
    "----------------------\n",
    "In the case we have the markers' local coordinates and we would like to express these markers in the global reference frame, we would use the mirror function `get_global_coordinates`."
   ]
  },
  {
   "cell_type": "code",
   "execution_count": 10,
   "metadata": {},
   "outputs": [
    {
     "data": {
      "text/plain": [
       "array([[[0., 1., 0.],\n",
       "        [0., 0., 1.],\n",
       "        [0., 0., 0.],\n",
       "        [1., 1., 1.]]])"
      ]
     },
     "execution_count": 1,
     "metadata": {},
     "output_type": "execute_result"
    }
   ],
   "source": [
    "ktk.geometry.get_global_coordinates(local_markers, T)"
   ]
  },
  {
   "cell_type": "markdown",
   "metadata": {},
   "source": [
    "in which case the results is effectively the global points as we defined them at the beginning."
   ]
  },
  {
   "cell_type": "markdown",
   "metadata": {},
   "source": [
    "For more information on geometry, please check the [API Reference for the geometry module](api/kineticstoolkit.geometry.rst)."
   ]
  }
 ],
 "metadata": {
  "kernelspec": {
   "display_name": "Python 3",
   "language": "python",
   "name": "python3"
  },
  "language_info": {
   "codemirror_mode": {
    "name": "ipython",
    "version": 3
   },
   "file_extension": ".py",
   "mimetype": "text/x-python",
   "name": "python",
   "nbconvert_exporter": "python",
   "pygments_lexer": "ipython3",
   "version": "3.8.6"
  }
 },
 "nbformat": 4,
 "nbformat_minor": 4
}