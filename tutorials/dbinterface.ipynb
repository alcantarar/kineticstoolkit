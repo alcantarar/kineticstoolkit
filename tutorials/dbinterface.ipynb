{
 "cells": [
  {
   "cell_type": "markdown",
   "metadata": {},
   "source": [
    "# ktk.dbinterface Tutorial\n",
    "ktk.dbinterface connects to the BIOMEC database (https://felixchenier.uqam.ca/biomec) to fetch all non-personal information about a specified project.\n",
    "\n",
    "Please note that the user/password combination used in this tutorial is not valid, and that you should have propel access to BIOMEC to use ktk.dbinterface."
   ]
  },
  {
   "cell_type": "code",
   "execution_count": 1,
   "metadata": {},
   "outputs": [],
   "source": [
    "import ktk"
   ]
  },
  {
   "cell_type": "markdown",
   "metadata": {},
   "source": [
    "## Fetching a complete project from BIOMEC\n",
    "The easiest way to fetch a project is to use the fetch_project function:\n",
    "\n",
    "``project = ktk.dbinterface.fetch_project(projectLabel)``\n",
    "\n",
    "which is an interactive function. For example:\n",
    "\n",
    "``project = ktk.dbinterface.fetch_project('FC_XX18A')``\n",
    "\n",
    "The fetchproject function can also be run non-interactively:"
   ]
  },
  {
   "cell_type": "code",
   "execution_count": 6,
   "metadata": {},
   "outputs": [],
   "source": [
    "project_label = 'dummyProject'\n",
    "username = 'dummyUser'\n",
    "password = 'dummyPassword'\n",
    "root_folder = 'data/dbinterface/FC_XX18A'\n",
    "url = ''\n",
    "url = 'http://localhost/biomec.uqam.ca'  # This line is only for this tutorial, please don't execute it.\n",
    "\n",
    "project = ktk.dbinterface.fetch_project(project_label, user=username, password=password, root_folder=root_folder,\n",
    "                                       url=url)"
   ]
  },
  {
   "cell_type": "markdown",
   "metadata": {},
   "source": [
    "## Navigating in the project structure\n",
    "The result of ktk.dbinterface.fetch_project is a nested dict with all the project information. Here are some examples to access all the different values contained in this tree."
   ]
  },
  {
   "cell_type": "code",
   "execution_count": 7,
   "metadata": {
    "scrolled": true
   },
   "outputs": [
    {
     "data": {
      "text/plain": [
       "{\n",
       "      'Participants': <dict with 1 entries>,\n",
       "         'ProjectID': 11,\n",
       "      'ProjectLabel': 'dummyProject',\n",
       "        'RootFolder': 'data/dbinterface/FC_XX18A',\n",
       "             'Files': <list of 7 items>,\n",
       "      'MissingFiles': <list of 0 items>,\n",
       "    'DuplicateFiles': <list of 0 items>\n",
       "}"
      ]
     },
     "execution_count": 7,
     "metadata": {},
     "output_type": "execute_result"
    }
   ],
   "source": [
    "project"
   ]
  },
  {
   "cell_type": "code",
   "execution_count": 9,
   "metadata": {},
   "outputs": [
    {
     "data": {
      "text/plain": [
       "{\n",
       "    'P1': <dict with 11 entries>\n",
       "}"
      ]
     },
     "execution_count": 9,
     "metadata": {},
     "output_type": "execute_result"
    }
   ],
   "source": [
    "project['Participants']"
   ]
  },
  {
   "cell_type": "code",
   "execution_count": 10,
   "metadata": {},
   "outputs": [
    {
     "data": {
      "text/plain": [
       "{\n",
       "        'Sessions': <dict with 1 entries>,\n",
       "            'DBID': 127,\n",
       "           'Label': 'P1',\n",
       "             'UID': 1,\n",
       "             'Sex': '',\n",
       "     'DateOfBirth': '',\n",
       "    'DateOfInjury': '',\n",
       "    'DominantSide': '',\n",
       "       'Pathology': 'Pathologie inconnue',\n",
       "             'AIS': '',\n",
       "       'Traumatic': ''\n",
       "}"
      ]
     },
     "execution_count": 10,
     "metadata": {},
     "output_type": "execute_result"
    }
   ],
   "source": [
    "project['Participants']['P1']"
   ]
  },
  {
   "cell_type": "code",
   "execution_count": 11,
   "metadata": {},
   "outputs": [
    {
     "data": {
      "text/plain": [
       "{\n",
       "    'GymnaseN1': <dict with 6 entries>\n",
       "}"
      ]
     },
     "execution_count": 11,
     "metadata": {},
     "output_type": "execute_result"
    }
   ],
   "source": [
    "project['Participants']['P1']['Sessions']"
   ]
  },
  {
   "cell_type": "code",
   "execution_count": 12,
   "metadata": {},
   "outputs": [
    {
     "data": {
      "text/plain": [
       "{\n",
       "        'Trials': <dict with 3 entries>,\n",
       "          'DBID': 127,\n",
       "          'Date': '2018-10-17',\n",
       "         'Place': 'GymnaseN',\n",
       "    'Repetition': <list of 1 items>,\n",
       "         'Notes': ''\n",
       "}"
      ]
     },
     "execution_count": 12,
     "metadata": {},
     "output_type": "execute_result"
    }
   ],
   "source": [
    "project['Participants']['P1']['Sessions']['GymnaseN1']"
   ]
  },
  {
   "cell_type": "code",
   "execution_count": 13,
   "metadata": {},
   "outputs": [
    {
     "data": {
      "text/plain": [
       "{\n",
       "     'Run1': <dict with 6 entries>,\n",
       "    'Walk1': <dict with 6 entries>,\n",
       "    'Walk2': <dict with 6 entries>\n",
       "}"
      ]
     },
     "execution_count": 13,
     "metadata": {},
     "output_type": "execute_result"
    }
   ],
   "source": [
    "project['Participants']['P1']['Sessions']['GymnaseN1']['Trials']"
   ]
  },
  {
   "cell_type": "code",
   "execution_count": 14,
   "metadata": {},
   "outputs": [
    {
     "data": {
      "text/plain": [
       "{\n",
       "          'Files': <dict with 2 entries>,\n",
       "           'DBID': 3152,\n",
       "      'TrialType': 'Run',\n",
       "     'Repetition': <list of 1 items>,\n",
       "    'Description': '',\n",
       "          'Notes': ''\n",
       "}"
      ]
     },
     "execution_count": 14,
     "metadata": {},
     "output_type": "execute_result"
    }
   ],
   "source": [
    "project['Participants']['P1']['Sessions']['GymnaseN1']['Trials']['Run1']"
   ]
  },
  {
   "cell_type": "code",
   "execution_count": 15,
   "metadata": {},
   "outputs": [
    {
     "data": {
      "text/plain": [
       "{\n",
       "    'Kinematics': <dict with 3 entries>,\n",
       "      'Kinetics': <dict with 3 entries>\n",
       "}"
      ]
     },
     "execution_count": 15,
     "metadata": {},
     "output_type": "execute_result"
    }
   ],
   "source": [
    "project['Participants']['P1']['Sessions']['GymnaseN1']['Trials']['Run1']['Files']"
   ]
  },
  {
   "cell_type": "code",
   "execution_count": 16,
   "metadata": {
    "scrolled": true
   },
   "outputs": [
    {
     "data": {
      "text/plain": [
       "{\n",
       "          'dbfid': 'dbfid6683n',\n",
       "    'Description': 'Kinematics recorded using a Vicon system',\n",
       "       'Filename': 'data/dbinterface/FC_XX18A/kinetics_dbfid6683n.csv'\n",
       "}"
      ]
     },
     "execution_count": 16,
     "metadata": {},
     "output_type": "execute_result"
    }
   ],
   "source": [
    "project['Participants']['P1']['Sessions']['GymnaseN1']['Trials']['Run1']['Files']['Kinematics']"
   ]
  },
  {
   "cell_type": "code",
   "execution_count": 17,
   "metadata": {},
   "outputs": [
    {
     "data": {
      "text/plain": [
       "'data/dbinterface/FC_XX18A/kinetics_dbfid6683n.csv'"
      ]
     },
     "execution_count": 17,
     "metadata": {},
     "output_type": "execute_result"
    }
   ],
   "source": [
    "project['Participants']['P1']['Sessions']['GymnaseN1']['Trials']['Run1']['Files']['Kinematics']['Filename']"
   ]
  }
 ],
 "metadata": {
  "kernelspec": {
   "display_name": "Python 3",
   "language": "python",
   "name": "python3"
  },
  "language_info": {
   "codemirror_mode": {
    "name": "ipython",
    "version": 3
   },
   "file_extension": ".py",
   "mimetype": "text/x-python",
   "name": "python",
   "nbconvert_exporter": "python",
   "pygments_lexer": "ipython3",
   "version": "3.7.3"
  }
 },
 "nbformat": 4,
 "nbformat_minor": 2
}
