{
 "cells": [
  {
   "cell_type": "markdown",
   "metadata": {},
   "source": [
    "# ktk.dbinterface Tutorial\n",
    "ktk.dbinterface connects to the BIOMEC database (https://biomec.uqam.ca) to fetch all non-personal information about a specified project.\n",
    "\n",
    "Please note that the user/password combination used in this tutorial is not valid, and that you should have propel access to BIOMEC to use ktk.dbinterface."
   ]
  },
  {
   "cell_type": "markdown",
   "metadata": {},
   "source": [
    "## Fetching a complete project from BIOMEC\n",
    "The easiest way to fetch a project is to use the fetch_project function:\n",
    "\n",
    "    project = ktk.dbinterface.fetch_project(projectLabel)\n",
    "\n",
    "which is an interactive function. For example:\n",
    "\n",
    "    project = ktk.dbinterface.fetch_project('FC_XX18A')\n",
    "\n",
    "The fetchproject function can also be run non-interactively:"
   ]
  },
  {
   "cell_type": "code",
   "execution_count": 11,
   "metadata": {},
   "outputs": [],
   "source": [
    "import ktk\n",
    "\n",
    "project_label = 'dummyProject'\n",
    "username = 'dummyUser'\n",
    "password = 'dummyPassword'\n",
    "root_folder = 'data/dbinterface/FC_XX18A'\n",
    "url = ''\n",
    "url = 'http://localhost/biomec.uqam.ca'  # This line is only for this tutorial, please don't execute it.\n",
    "\n",
    "project = ktk.dbinterface.fetch_project(project_label, user=username, password=password, root_folder=root_folder,\n",
    "                                       url=url)"
   ]
  },
  {
   "cell_type": "code",
   "execution_count": 12,
   "metadata": {},
   "outputs": [
    {
     "data": {
      "text/plain": [
       "dbinterface.Project with attributes:\n",
       "  participants: {'P1': dbinterface.Participant with attributes: sessions: {'Gy...\n",
       "          dbid: 11\n",
       "         label: 'dummyProject'"
      ]
     },
     "execution_count": 12,
     "metadata": {},
     "output_type": "execute_result"
    }
   ],
   "source": [
    "project"
   ]
  },
  {
   "cell_type": "markdown",
   "metadata": {},
   "source": [
    "## Navigating in the project structure\n",
    "The result of ktk.dbinterface.fetch_project is a tree-like class with all the project information:"
   ]
  },
  {
   "cell_type": "code",
   "execution_count": 13,
   "metadata": {},
   "outputs": [
    {
     "data": {
      "text/plain": [
       "{\n",
       "'P1': dbinterface.Participant with attributes: sessions: {'GymnaseN1': dbinter...\n",
       "}"
      ]
     },
     "execution_count": 13,
     "metadata": {},
     "output_type": "execute_result"
    }
   ],
   "source": [
    "project.participants"
   ]
  },
  {
   "cell_type": "code",
   "execution_count": 14,
   "metadata": {},
   "outputs": [
    {
     "data": {
      "text/plain": [
       "dbinterface.Participant with attributes:\n",
       "        sessions: {'GymnaseN1': dbinterface.Session with attributes: trials: {...\n",
       "            dbid: 127\n",
       "             uid: 1\n",
       "           label: 'P1'\n",
       "             sex: ''\n",
       "   date_of_birth: ''\n",
       "  date_of_injury: ''\n",
       "   dominant_side: ''\n",
       "       pathology: 'Pathologie inconnue'\n",
       "             ais: ''\n",
       "       traumatic: ''"
      ]
     },
     "execution_count": 14,
     "metadata": {},
     "output_type": "execute_result"
    }
   ],
   "source": [
    "project.participants['P1']"
   ]
  },
  {
   "cell_type": "code",
   "execution_count": 15,
   "metadata": {},
   "outputs": [
    {
     "data": {
      "text/plain": [
       "{\n",
       "'GymnaseN1': dbinterface.Session with attributes: trials: {'Run1': dbinterface...\n",
       "}"
      ]
     },
     "execution_count": 15,
     "metadata": {},
     "output_type": "execute_result"
    }
   ],
   "source": [
    "project.participants['P1'].sessions"
   ]
  },
  {
   "cell_type": "code",
   "execution_count": 16,
   "metadata": {},
   "outputs": [
    {
     "data": {
      "text/plain": [
       "dbinterface.Session with attributes:\n",
       "      trials: {'Run1': dbinterface.Trial with attributes: files: {'Kinematics'...\n",
       "        dbid: 127\n",
       "        date: '2018-10-17'\n",
       "       place: 'GymnaseN'\n",
       "  repetition: [1]\n",
       "       notes: ''"
      ]
     },
     "execution_count": 16,
     "metadata": {},
     "output_type": "execute_result"
    }
   ],
   "source": [
    "project.participants['P1'].sessions['GymnaseN1']"
   ]
  },
  {
   "cell_type": "code",
   "execution_count": 17,
   "metadata": {},
   "outputs": [
    {
     "data": {
      "text/plain": [
       "{\n",
       " 'Run1': dbinterface.Trial with attributes: files: {'Kinematics': dbinterface....\n",
       "'Walk1': dbinterface.Trial with attributes: files: {'Kinematics': dbinterface....\n",
       "'Walk2': dbinterface.Trial with attributes: files: {'Kinematics': dbinterface....\n",
       "}"
      ]
     },
     "execution_count": 17,
     "metadata": {},
     "output_type": "execute_result"
    }
   ],
   "source": [
    "project.participants['P1'].sessions['GymnaseN1'].trials"
   ]
  },
  {
   "cell_type": "code",
   "execution_count": 18,
   "metadata": {},
   "outputs": [
    {
     "data": {
      "text/plain": [
       "dbinterface.Trial with attributes:\n",
       "        files: {'Kinematics': dbinterface.File with attributes: dbid: 6683 dbf...\n",
       "         dbid: 3152\n",
       "   trial_type: 'Run'\n",
       "   repetition: [1]\n",
       "  description: ''\n",
       "        notes: ''"
      ]
     },
     "execution_count": 18,
     "metadata": {},
     "output_type": "execute_result"
    }
   ],
   "source": [
    "project.participants['P1'].sessions['GymnaseN1'].trials['Run1']"
   ]
  },
  {
   "cell_type": "code",
   "execution_count": 19,
   "metadata": {},
   "outputs": [
    {
     "data": {
      "text/plain": [
       "{\n",
       "'Kinematics': dbinterface.File with attributes: dbid: 6683 dbfid: 'dbfid6683n'...\n",
       "  'Kinetics': dbinterface.File with attributes: dbid: 6684 dbfid: 'dbfid6684n'...\n",
       "}"
      ]
     },
     "execution_count": 19,
     "metadata": {},
     "output_type": "execute_result"
    }
   ],
   "source": [
    "project.participants['P1'].sessions['GymnaseN1'].trials['Run1'].files"
   ]
  },
  {
   "cell_type": "code",
   "execution_count": 20,
   "metadata": {
    "scrolled": true
   },
   "outputs": [
    {
     "data": {
      "text/plain": [
       "dbinterface.File with attributes:\n",
       "         dbid: 6683\n",
       "        dbfid: 'dbfid6683n'\n",
       "  description: 'Kinematics recorded using a Vicon system'\n",
       "    file_name: ''"
      ]
     },
     "execution_count": 20,
     "metadata": {},
     "output_type": "execute_result"
    }
   ],
   "source": [
    "project.participants['P1'].sessions['GymnaseN1'].trials['Run1'].files['Kinematics']"
   ]
  }
 ],
 "metadata": {
  "kernelspec": {
   "display_name": "Python 3",
   "language": "python",
   "name": "python3"
  },
  "language_info": {
   "codemirror_mode": {
    "name": "ipython",
    "version": 3
   },
   "file_extension": ".py",
   "mimetype": "text/x-python",
   "name": "python",
   "nbconvert_exporter": "python",
   "pygments_lexer": "ipython3",
   "version": "3.7.3"
  }
 },
 "nbformat": 4,
 "nbformat_minor": 2
}
