{
 "cells": [
  {
   "cell_type": "markdown",
   "metadata": {},
   "source": [
    "# KTK Tutorials (Python experimental version)\n",
    "Kinesiology Toolkit (KTK) is an in-house biomechanical library developed by Professor Félix Chénier at Université du Québec à Montréal. Originally programmed in and for Matlab, KTK is quickly becoming a collection of Python modules that aims to manage experimental files using a database and process 3d kinetics, 3d kinematics and EMG data.\n",
    "\n",
    "Although KTK is developed primarily for my laboratory, it will be my great pleasure to initiate collaborations and use this library to share expertise and data with other researchers. Please feel free to communicate with me to discuss about such collaborations:\n",
    "\n",
    "    Félix Chénier\n",
    "    Professor, Department of physical activity science\n",
    "    Université du Québec à Montréal (UQAM)\n",
    "    Email: chenier.felix@uqam.ca\n",
    "    Phone: 514-987-3000 ext. 5553\n",
    "    Website: felixchenier.com"
   ]
  },
  {
   "cell_type": "code",
   "execution_count": null,
   "metadata": {},
   "outputs": [],
   "source": []
  },
  {
   "cell_type": "markdown",
   "metadata": {},
   "source": [
    "## Tutorials\n",
    "- [dbinterface : module that communicates with Félix Chénier's biomechanics database.](dbinterface.html)\n",
    "- [pushrimkinetics : module that processes kinetics data from instrumented wheelchair wheels.](pushrimkinetics.html)"
   ]
  }
 ],
 "metadata": {
  "kernelspec": {
   "display_name": "Python 3",
   "language": "python",
   "name": "python3"
  },
  "language_info": {
   "codemirror_mode": {
    "name": "ipython",
    "version": 3
   },
   "file_extension": ".py",
   "mimetype": "text/x-python",
   "name": "python",
   "nbconvert_exporter": "python",
   "pygments_lexer": "ipython3",
   "version": "3.7.3"
  }
 },
 "nbformat": 4,
 "nbformat_minor": 2
}
