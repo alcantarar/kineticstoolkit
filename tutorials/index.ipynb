{
 "cells": [
  {
   "cell_type": "markdown",
   "metadata": {},
   "source": [
    "Kinetics Toolkit (ktk) - Getting Started Tutorial\n",
    "====================================\n",
    "\n",
    "\n",
    "[Laboratory website](https://felixchenier.uqam.ca)\n",
    "\n",
    "[Kinetics Toolkit (ktk) website](https://felixchenier.uqam.ca/kineticstoolkit)\n",
    "\n",
    "[API documentation](https://felixchenier.uqam.ca/ktk_dist/api)\n",
    "\n",
    "This is the getting started tutorial for the **stable public version**. [Switch to the private version](https://felixchenier.uqam.ca/ktk_lab/tutorials)."
   ]
  },
  {
   "cell_type": "markdown",
   "metadata": {
    "toc": true
   },
   "source": [
    "<h1>Table of Contents<span class=\"tocSkip\"></span></h1>\n",
    "<div class=\"toc\"><ul class=\"toc-item\"><li><span><a href=\"#Installing\" data-toc-modified-id=\"Installing-1\"><span class=\"toc-item-num\">1&nbsp;&nbsp;</span>Installing</a></span></li><li><span><a href=\"#TimeSeries\" data-toc-modified-id=\"TimeSeries-2\"><span class=\"toc-item-num\">2&nbsp;&nbsp;</span>TimeSeries</a></span><ul class=\"toc-item\"><li><span><a href=\"#Properties\" data-toc-modified-id=\"Properties-2.1\"><span class=\"toc-item-num\">2.1&nbsp;&nbsp;</span>Properties</a></span><ul class=\"toc-item\"><li><span><a href=\"#time\" data-toc-modified-id=\"time-2.1.1\"><span class=\"toc-item-num\">2.1.1&nbsp;&nbsp;</span>time</a></span></li><li><span><a href=\"#data\" data-toc-modified-id=\"data-2.1.2\"><span class=\"toc-item-num\">2.1.2&nbsp;&nbsp;</span>data</a></span><ul class=\"toc-item\"><li><span><a href=\"#data-as-n-dimensional-arrays\" data-toc-modified-id=\"data-as-n-dimensional-arrays-2.1.2.1\"><span class=\"toc-item-num\">2.1.2.1&nbsp;&nbsp;</span>data as n-dimensional arrays</a></span></li></ul></li><li><span><a href=\"#time_info\" data-toc-modified-id=\"time_info-2.1.3\"><span class=\"toc-item-num\">2.1.3&nbsp;&nbsp;</span>time_info</a></span></li><li><span><a href=\"#data_info\" data-toc-modified-id=\"data_info-2.1.4\"><span class=\"toc-item-num\">2.1.4&nbsp;&nbsp;</span>data_info</a></span></li><li><span><a href=\"#events\" data-toc-modified-id=\"events-2.1.5\"><span class=\"toc-item-num\">2.1.5&nbsp;&nbsp;</span>events</a></span></li></ul></li><li><span><a href=\"#Using-events-to-extract-sub-timeseries\" data-toc-modified-id=\"Using-events-to-extract-sub-timeseries-2.2\"><span class=\"toc-item-num\">2.2&nbsp;&nbsp;</span>Using events to extract sub-timeseries</a></span></li><li><span><a href=\"#Synchronizing-TimeSeries\" data-toc-modified-id=\"Synchronizing-TimeSeries-2.3\"><span class=\"toc-item-num\">2.3&nbsp;&nbsp;</span>Synchronizing TimeSeries</a></span></li><li><span><a href=\"#Subsetting-and-merging-timeseries\" data-toc-modified-id=\"Subsetting-and-merging-timeseries-2.4\"><span class=\"toc-item-num\">2.4&nbsp;&nbsp;</span>Subsetting and merging timeseries</a></span></li></ul></li></ul></div>"
   ]
  },
  {
   "cell_type": "markdown",
   "metadata": {},
   "source": [
    "Installing\n",
    "----------\n",
    "\n",
    "The public version of ktk is hosted on [PyPI](https://pypi.org/project/ktk/). As such, installing ktk is as simple as this:\n",
    "\n",
    "    pip install ktk\n",
    "\n",
    "Now we can import ktk and some other libraries used in this tutorial."
   ]
  },
  {
   "cell_type": "code",
   "execution_count": 8,
   "metadata": {},
   "outputs": [],
   "source": [
    "import ktk\n",
    "import pandas as pd\n",
    "import numpy as np"
   ]
  },
  {
   "cell_type": "markdown",
   "metadata": {},
   "source": [
    "TimeSeries\n",
    "-------------\n",
    "\n",
    "At this time, the TimeSeries class is the only interesting thing in ktk. This class is the basis of every future ktk module and is in my opinion very helpful in manipulating biomechanical data.\n",
    "\n",
    "-------------------------\n",
    "\n",
    "***The three roles of the TimeSeries class are to:***\n",
    "1. *organize any temporal data in time;*\n",
    "2. *deal with events;*\n",
    "3. *associate metadata to data.*\n",
    "\n",
    "-------------------------\n",
    "\n",
    "Although we often see the concept of time series in financial, forecast, and even psychological science, the concept of time series also applies very well to biomechanics: biomechanical data is almost always expressed as series of data in time (e.g., the trajectory of a marker, an electromyographic signal).\n",
    "\n",
    "While in python, time series analyses are often performed using Pandas DataFrames, I believe DataFrames are suboptimal in biomechanics processing:\n",
    "\n",
    "1. We often have to deal not just with series of data points, but also with **series of vectors** (e.g., trajectory of a marker) and **series of matrices** (e.g., series of transformation matrices). Expressing series of vectors and matrices in a bidimensional DataFrame is not convenient.\n",
    "\n",
    "2. We often have different measures with **different units**, and there is no practical way with a DataFrame to associate units to columns, other than by keeping a separate dictionary.\n",
    "\n",
    "3. We often deal with **events** (e.g., heel contact), and there is no practical way using a DataFrame to keep a list of those events with their corresponding times, other than by keeping a separate list.\n",
    "\n",
    "To overcome these limitation, `ktk` provides the `TimeSeries` and `TimeSeriesEvent` classes, which are the basis of every `ktk` module. These classes are largely inspired by Matlab's `timeseries`, `tsdata.event` and `tscollection`. Note that TimeSeries are fully compatible with Pandas DataFrame using their conversion methods `from_dataframe` and `to_dataframe`.\n",
    "\n",
    "To better understand the role and capabilities of the TimeSeries class, we will begin by opening some columns of a csv file as a Pandas DataFrame. This file contains forces and moments applied on an instrumented wheelchair wheel during the propulsion of a manual wheelchair."
   ]
  },
  {
   "cell_type": "code",
   "execution_count": 9,
   "metadata": {},
   "outputs": [
    {
     "data": {
      "text/html": [
       "<div>\n",
       "<style scoped>\n",
       "    .dataframe tbody tr th:only-of-type {\n",
       "        vertical-align: middle;\n",
       "    }\n",
       "\n",
       "    .dataframe tbody tr th {\n",
       "        vertical-align: top;\n",
       "    }\n",
       "\n",
       "    .dataframe thead th {\n",
       "        text-align: right;\n",
       "    }\n",
       "</style>\n",
       "<table border=\"1\" class=\"dataframe\">\n",
       "  <thead>\n",
       "    <tr style=\"text-align: right;\">\n",
       "      <th></th>\n",
       "      <th>Fx</th>\n",
       "      <th>Fy</th>\n",
       "      <th>Fz</th>\n",
       "      <th>Mx</th>\n",
       "      <th>My</th>\n",
       "      <th>Mz</th>\n",
       "    </tr>\n",
       "  </thead>\n",
       "  <tbody>\n",
       "    <tr>\n",
       "      <th>0.000000</th>\n",
       "      <td>1.27</td>\n",
       "      <td>-0.89</td>\n",
       "      <td>-0.20</td>\n",
       "      <td>-0.03</td>\n",
       "      <td>0.05</td>\n",
       "      <td>-0.03</td>\n",
       "    </tr>\n",
       "    <tr>\n",
       "      <th>0.004167</th>\n",
       "      <td>0.49</td>\n",
       "      <td>-0.83</td>\n",
       "      <td>-0.51</td>\n",
       "      <td>0.02</td>\n",
       "      <td>-0.01</td>\n",
       "      <td>-0.13</td>\n",
       "    </tr>\n",
       "    <tr>\n",
       "      <th>0.008333</th>\n",
       "      <td>0.00</td>\n",
       "      <td>-0.78</td>\n",
       "      <td>-0.51</td>\n",
       "      <td>0.04</td>\n",
       "      <td>-0.07</td>\n",
       "      <td>-0.18</td>\n",
       "    </tr>\n",
       "    <tr>\n",
       "      <th>0.012500</th>\n",
       "      <td>-0.13</td>\n",
       "      <td>-0.93</td>\n",
       "      <td>-0.41</td>\n",
       "      <td>0.03</td>\n",
       "      <td>-0.16</td>\n",
       "      <td>-0.18</td>\n",
       "    </tr>\n",
       "    <tr>\n",
       "      <th>0.016667</th>\n",
       "      <td>-0.02</td>\n",
       "      <td>-0.89</td>\n",
       "      <td>0.00</td>\n",
       "      <td>0.01</td>\n",
       "      <td>-0.21</td>\n",
       "      <td>-0.13</td>\n",
       "    </tr>\n",
       "    <tr>\n",
       "      <th>...</th>\n",
       "      <td>...</td>\n",
       "      <td>...</td>\n",
       "      <td>...</td>\n",
       "      <td>...</td>\n",
       "      <td>...</td>\n",
       "      <td>...</td>\n",
       "    </tr>\n",
       "    <tr>\n",
       "      <th>65.566667</th>\n",
       "      <td>0.52</td>\n",
       "      <td>-0.62</td>\n",
       "      <td>1.33</td>\n",
       "      <td>0.17</td>\n",
       "      <td>0.21</td>\n",
       "      <td>-0.15</td>\n",
       "    </tr>\n",
       "    <tr>\n",
       "      <th>65.570833</th>\n",
       "      <td>0.47</td>\n",
       "      <td>-0.52</td>\n",
       "      <td>1.63</td>\n",
       "      <td>0.11</td>\n",
       "      <td>0.13</td>\n",
       "      <td>-0.13</td>\n",
       "    </tr>\n",
       "    <tr>\n",
       "      <th>65.575000</th>\n",
       "      <td>0.43</td>\n",
       "      <td>-0.23</td>\n",
       "      <td>2.04</td>\n",
       "      <td>0.02</td>\n",
       "      <td>0.08</td>\n",
       "      <td>-0.03</td>\n",
       "    </tr>\n",
       "    <tr>\n",
       "      <th>65.579167</th>\n",
       "      <td>0.51</td>\n",
       "      <td>0.06</td>\n",
       "      <td>2.35</td>\n",
       "      <td>-0.05</td>\n",
       "      <td>0.12</td>\n",
       "      <td>0.03</td>\n",
       "    </tr>\n",
       "    <tr>\n",
       "      <th>65.583333</th>\n",
       "      <td>0.58</td>\n",
       "      <td>0.34</td>\n",
       "      <td>2.65</td>\n",
       "      <td>-0.09</td>\n",
       "      <td>0.17</td>\n",
       "      <td>0.08</td>\n",
       "    </tr>\n",
       "  </tbody>\n",
       "</table>\n",
       "<p>15741 rows × 6 columns</p>\n",
       "</div>"
      ],
      "text/plain": [
       "             Fx    Fy    Fz    Mx    My    Mz\n",
       "0.000000   1.27 -0.89 -0.20 -0.03  0.05 -0.03\n",
       "0.004167   0.49 -0.83 -0.51  0.02 -0.01 -0.13\n",
       "0.008333   0.00 -0.78 -0.51  0.04 -0.07 -0.18\n",
       "0.012500  -0.13 -0.93 -0.41  0.03 -0.16 -0.18\n",
       "0.016667  -0.02 -0.89  0.00  0.01 -0.21 -0.13\n",
       "...         ...   ...   ...   ...   ...   ...\n",
       "65.566667  0.52 -0.62  1.33  0.17  0.21 -0.15\n",
       "65.570833  0.47 -0.52  1.63  0.11  0.13 -0.13\n",
       "65.575000  0.43 -0.23  2.04  0.02  0.08 -0.03\n",
       "65.579167  0.51  0.06  2.35 -0.05  0.12  0.03\n",
       "65.583333  0.58  0.34  2.65 -0.09  0.17  0.08\n",
       "\n",
       "[15741 rows x 6 columns]"
      ]
     },
     "execution_count": 9,
     "metadata": {},
     "output_type": "execute_result"
    }
   ],
   "source": [
    "# Read some columns\n",
    "df = pd.read_csv('data/timeseries/smartwheel.csv',\n",
    "                 usecols=[18, 19, 20, 21, 22, 23],\n",
    "                 names=['Fx', 'Fy', 'Fz', 'Mx', 'My', 'Mz'])\n",
    "\n",
    "# Assign time to the DataFrame's index, where the sampling rate is 240 Hz.\n",
    "df.index = np.arange(df.shape[0]) / 240\n",
    "df"
   ]
  },
  {
   "cell_type": "markdown",
   "metadata": {},
   "source": [
    "Now, we can convert this DataFrame to a TimeSeries:"
   ]
  },
  {
   "cell_type": "code",
   "execution_count": 5,
   "metadata": {},
   "outputs": [
    {
     "data": {
      "text/plain": [
       "TimeSeries with attributes:\n",
       "           data: <dict with 6 entries>,\n",
       "      data_info: <dict with 0 entries>,\n",
       "         events: <list of 0 items>\n",
       "           time: <array of shape (15741,)>,\n",
       "      time_info: <dict with 1 entries>,"
      ]
     },
     "execution_count": 5,
     "metadata": {},
     "output_type": "execute_result"
    }
   ],
   "source": [
    "ts = ktk.TimeSeries().from_dataframe(df)\n",
    "ts"
   ]
  },
  {
   "cell_type": "markdown",
   "metadata": {},
   "source": [
    "### Properties ###\n",
    "\n",
    "#### time ####\n",
    "\n",
    "The `time` property is the time vector, which tells at which time correspond each of the samples."
   ]
  },
  {
   "cell_type": "code",
   "execution_count": 10,
   "metadata": {},
   "outputs": [
    {
     "data": {
      "text/plain": [
       "array([0.00000000e+00, 4.16666667e-03, 8.33333333e-03, ...,\n",
       "       6.55750000e+01, 6.55791667e+01, 6.55833333e+01])"
      ]
     },
     "execution_count": 10,
     "metadata": {},
     "output_type": "execute_result"
    }
   ],
   "source": [
    "ts.time"
   ]
  },
  {
   "cell_type": "markdown",
   "metadata": {},
   "source": [
    "#### data ####\n",
    "\n",
    "The `data` property contains the TimeSeries' data in a dictionary. Here, we had 6 columns in the DataFrame: each of these columns corresponds to a data key."
   ]
  },
  {
   "cell_type": "code",
   "execution_count": 14,
   "metadata": {},
   "outputs": [
    {
     "data": {
      "text/plain": [
       "{'Fx': array([1.27, 0.49, 0.  , ..., 0.43, 0.51, 0.58]),\n",
       " 'Fy': array([-0.89, -0.83, -0.78, ..., -0.23,  0.06,  0.34]),\n",
       " 'Fz': array([-0.2 , -0.51, -0.51, ...,  2.04,  2.35,  2.65]),\n",
       " 'Mx': array([-0.03,  0.02,  0.04, ...,  0.02, -0.05, -0.09]),\n",
       " 'My': array([ 0.05, -0.01, -0.07, ...,  0.08,  0.12,  0.17]),\n",
       " 'Mz': array([-0.03, -0.13, -0.18, ..., -0.03,  0.03,  0.08])}"
      ]
     },
     "execution_count": 14,
     "metadata": {},
     "output_type": "execute_result"
    }
   ],
   "source": [
    "ts.data"
   ]
  },
  {
   "cell_type": "markdown",
   "metadata": {},
   "source": [
    "##### data as n-dimensional arrays #####\n",
    "\n",
    "Up to now, there is no true benefit to using a TimeSeries instead of a DataFrame to process the forces and moments measured by the instrumented wheel. Let's see how the TimeSeries addresses point 1: **dealing with series of vectors and matrices**.\n",
    "\n",
    "In reality, Fx, Fy and Fz are components of a single entity which is a force vector. Similarly, Mx, My and Mz are components of a single entity which is a moment vector. Let's see what happens if we name the DataFrames' columns differently."
   ]
  },
  {
   "cell_type": "code",
   "execution_count": 15,
   "metadata": {},
   "outputs": [
    {
     "data": {
      "text/html": [
       "<div>\n",
       "<style scoped>\n",
       "    .dataframe tbody tr th:only-of-type {\n",
       "        vertical-align: middle;\n",
       "    }\n",
       "\n",
       "    .dataframe tbody tr th {\n",
       "        vertical-align: top;\n",
       "    }\n",
       "\n",
       "    .dataframe thead th {\n",
       "        text-align: right;\n",
       "    }\n",
       "</style>\n",
       "<table border=\"1\" class=\"dataframe\">\n",
       "  <thead>\n",
       "    <tr style=\"text-align: right;\">\n",
       "      <th></th>\n",
       "      <th>Forces[0]</th>\n",
       "      <th>Forces[1]</th>\n",
       "      <th>Forces[2]</th>\n",
       "      <th>Moments[0]</th>\n",
       "      <th>Moments[1]</th>\n",
       "      <th>Moments[2]</th>\n",
       "    </tr>\n",
       "  </thead>\n",
       "  <tbody>\n",
       "    <tr>\n",
       "      <th>0.000000</th>\n",
       "      <td>1.27</td>\n",
       "      <td>-0.89</td>\n",
       "      <td>-0.20</td>\n",
       "      <td>-0.03</td>\n",
       "      <td>0.05</td>\n",
       "      <td>-0.03</td>\n",
       "    </tr>\n",
       "    <tr>\n",
       "      <th>0.004167</th>\n",
       "      <td>0.49</td>\n",
       "      <td>-0.83</td>\n",
       "      <td>-0.51</td>\n",
       "      <td>0.02</td>\n",
       "      <td>-0.01</td>\n",
       "      <td>-0.13</td>\n",
       "    </tr>\n",
       "    <tr>\n",
       "      <th>0.008333</th>\n",
       "      <td>0.00</td>\n",
       "      <td>-0.78</td>\n",
       "      <td>-0.51</td>\n",
       "      <td>0.04</td>\n",
       "      <td>-0.07</td>\n",
       "      <td>-0.18</td>\n",
       "    </tr>\n",
       "    <tr>\n",
       "      <th>0.012500</th>\n",
       "      <td>-0.13</td>\n",
       "      <td>-0.93</td>\n",
       "      <td>-0.41</td>\n",
       "      <td>0.03</td>\n",
       "      <td>-0.16</td>\n",
       "      <td>-0.18</td>\n",
       "    </tr>\n",
       "    <tr>\n",
       "      <th>0.016667</th>\n",
       "      <td>-0.02</td>\n",
       "      <td>-0.89</td>\n",
       "      <td>0.00</td>\n",
       "      <td>0.01</td>\n",
       "      <td>-0.21</td>\n",
       "      <td>-0.13</td>\n",
       "    </tr>\n",
       "    <tr>\n",
       "      <th>...</th>\n",
       "      <td>...</td>\n",
       "      <td>...</td>\n",
       "      <td>...</td>\n",
       "      <td>...</td>\n",
       "      <td>...</td>\n",
       "      <td>...</td>\n",
       "    </tr>\n",
       "    <tr>\n",
       "      <th>65.566667</th>\n",
       "      <td>0.52</td>\n",
       "      <td>-0.62</td>\n",
       "      <td>1.33</td>\n",
       "      <td>0.17</td>\n",
       "      <td>0.21</td>\n",
       "      <td>-0.15</td>\n",
       "    </tr>\n",
       "    <tr>\n",
       "      <th>65.570833</th>\n",
       "      <td>0.47</td>\n",
       "      <td>-0.52</td>\n",
       "      <td>1.63</td>\n",
       "      <td>0.11</td>\n",
       "      <td>0.13</td>\n",
       "      <td>-0.13</td>\n",
       "    </tr>\n",
       "    <tr>\n",
       "      <th>65.575000</th>\n",
       "      <td>0.43</td>\n",
       "      <td>-0.23</td>\n",
       "      <td>2.04</td>\n",
       "      <td>0.02</td>\n",
       "      <td>0.08</td>\n",
       "      <td>-0.03</td>\n",
       "    </tr>\n",
       "    <tr>\n",
       "      <th>65.579167</th>\n",
       "      <td>0.51</td>\n",
       "      <td>0.06</td>\n",
       "      <td>2.35</td>\n",
       "      <td>-0.05</td>\n",
       "      <td>0.12</td>\n",
       "      <td>0.03</td>\n",
       "    </tr>\n",
       "    <tr>\n",
       "      <th>65.583333</th>\n",
       "      <td>0.58</td>\n",
       "      <td>0.34</td>\n",
       "      <td>2.65</td>\n",
       "      <td>-0.09</td>\n",
       "      <td>0.17</td>\n",
       "      <td>0.08</td>\n",
       "    </tr>\n",
       "  </tbody>\n",
       "</table>\n",
       "<p>15741 rows × 6 columns</p>\n",
       "</div>"
      ],
      "text/plain": [
       "           Forces[0]  Forces[1]  Forces[2]  Moments[0]  Moments[1]  Moments[2]\n",
       "0.000000        1.27      -0.89      -0.20       -0.03        0.05       -0.03\n",
       "0.004167        0.49      -0.83      -0.51        0.02       -0.01       -0.13\n",
       "0.008333        0.00      -0.78      -0.51        0.04       -0.07       -0.18\n",
       "0.012500       -0.13      -0.93      -0.41        0.03       -0.16       -0.18\n",
       "0.016667       -0.02      -0.89       0.00        0.01       -0.21       -0.13\n",
       "...              ...        ...        ...         ...         ...         ...\n",
       "65.566667       0.52      -0.62       1.33        0.17        0.21       -0.15\n",
       "65.570833       0.47      -0.52       1.63        0.11        0.13       -0.13\n",
       "65.575000       0.43      -0.23       2.04        0.02        0.08       -0.03\n",
       "65.579167       0.51       0.06       2.35       -0.05        0.12        0.03\n",
       "65.583333       0.58       0.34       2.65       -0.09        0.17        0.08\n",
       "\n",
       "[15741 rows x 6 columns]"
      ]
     },
     "execution_count": 15,
     "metadata": {},
     "output_type": "execute_result"
    }
   ],
   "source": [
    "df.columns = ['Forces[0]', 'Forces[1]', 'Forces[2]', 'Moments[0]', 'Moments[1]', 'Moments[2]']\n",
    "df"
   ]
  },
  {
   "cell_type": "markdown",
   "metadata": {},
   "source": [
    "Now we convert this DataFrame to a TimeSeries:"
   ]
  },
  {
   "cell_type": "code",
   "execution_count": 16,
   "metadata": {},
   "outputs": [
    {
     "data": {
      "text/plain": [
       "{'Forces': array([[ 1.27, -0.89, -0.2 ],\n",
       "        [ 0.49, -0.83, -0.51],\n",
       "        [ 0.  , -0.78, -0.51],\n",
       "        ...,\n",
       "        [ 0.43, -0.23,  2.04],\n",
       "        [ 0.51,  0.06,  2.35],\n",
       "        [ 0.58,  0.34,  2.65]]),\n",
       " 'Moments': array([[-0.03,  0.05, -0.03],\n",
       "        [ 0.02, -0.01, -0.13],\n",
       "        [ 0.04, -0.07, -0.18],\n",
       "        ...,\n",
       "        [ 0.02,  0.08, -0.03],\n",
       "        [-0.05,  0.12,  0.03],\n",
       "        [-0.09,  0.17,  0.08]])}"
      ]
     },
     "execution_count": 16,
     "metadata": {},
     "output_type": "execute_result"
    }
   ],
   "source": [
    "ts = ktk.TimeSeries().from_dataframe(df)\n",
    "ts.data"
   ]
  },
  {
   "cell_type": "markdown",
   "metadata": {},
   "source": [
    "We see that instead of being separated into 6 separate components, the three components of both the forces and moments are now grouped in two Nx3 arrays. This may greatly simplify subsequent data processing. For example, if we are interested in calculating the vectorial sum of the forces, then one could add this new data to the TimeSeries with this line:"
   ]
  },
  {
   "cell_type": "code",
   "execution_count": 17,
   "metadata": {},
   "outputs": [
    {
     "data": {
      "text/plain": [
       "{'Forces': array([[ 1.27, -0.89, -0.2 ],\n",
       "        [ 0.49, -0.83, -0.51],\n",
       "        [ 0.  , -0.78, -0.51],\n",
       "        ...,\n",
       "        [ 0.43, -0.23,  2.04],\n",
       "        [ 0.51,  0.06,  2.35],\n",
       "        [ 0.58,  0.34,  2.65]]),\n",
       " 'Moments': array([[-0.03,  0.05, -0.03],\n",
       "        [ 0.02, -0.01, -0.13],\n",
       "        [ 0.04, -0.07, -0.18],\n",
       "        ...,\n",
       "        [ 0.02,  0.08, -0.03],\n",
       "        [-0.05,  0.12,  0.03],\n",
       "        [-0.09,  0.17,  0.08]]),\n",
       " 'Ftot': array([1.56364958, 1.09045862, 0.93193347, ..., 2.09747467, 2.40545214,\n",
       "        2.73395318])}"
      ]
     },
     "execution_count": 17,
     "metadata": {},
     "output_type": "execute_result"
    }
   ],
   "source": [
    "ts.data['Ftot'] = np.sqrt(np.sum(ts.data['Forces']**2, axis=1))\n",
    "ts.data"
   ]
  },
  {
   "cell_type": "markdown",
   "metadata": {},
   "source": [
    "#### time_info ####\n",
    "\n",
    "The `time_info` property associates metadata to the time vector. It is a dictionary where each key is the name of one metadata. By default, `time_info` includes the `Unit` metadata, which corresponds to `s`. Any other metadata can be added by adding new keys in `time_info`."
   ]
  },
  {
   "cell_type": "code",
   "execution_count": 18,
   "metadata": {},
   "outputs": [
    {
     "data": {
      "text/plain": [
       "{'Unit': 's'}"
      ]
     },
     "execution_count": 18,
     "metadata": {},
     "output_type": "execute_result"
    }
   ],
   "source": [
    "ts.time_info"
   ]
  },
  {
   "cell_type": "markdown",
   "metadata": {},
   "source": [
    "#### data_info ####\n",
    "\n",
    "Similarly to `time_info`, the `data_info` property associates metadata to data. This is especially useful for addressing point 2: **dealing with several units**. This property is a dictionary of dictionaries, where the first key corresponds to the data key, and the second key is the metadata itself.\n",
    "\n",
    "To ease the management of `data_info`, one can use the TimeSeries' `add_data_info` method."
   ]
  },
  {
   "cell_type": "code",
   "execution_count": 19,
   "metadata": {},
   "outputs": [
    {
     "data": {
      "text/plain": [
       "{'Forces': {'Unit': 'N'}, 'Moments': {'Unit': 'Nm'}, 'Ftot': {'Unit': 'N'}}"
      ]
     },
     "execution_count": 19,
     "metadata": {},
     "output_type": "execute_result"
    }
   ],
   "source": [
    "ts.add_data_info('Forces', 'Unit', 'N')\n",
    "ts.add_data_info('Moments', 'Unit', 'Nm')\n",
    "ts.add_data_info('Ftot', 'Unit', 'N')\n",
    "ts.data_info"
   ]
  },
  {
   "cell_type": "markdown",
   "metadata": {},
   "source": [
    "Now it is time to plot our TimeSeries, using its builtin `plot` method which makes use of `data_info` to write the data units in the legend."
   ]
  },
  {
   "cell_type": "code",
   "execution_count": 20,
   "metadata": {},
   "outputs": [
    {
     "data": {
      "image/png": "[encoded data removed]",
      "text/plain": [
       "<Figure size 432x288 with 1 Axes>"
      ]
     },
     "metadata": {
      "needs_background": "light"
     },
     "output_type": "display_data"
    }
   ],
   "source": [
    "ts.plot()"
   ]
  },
  {
   "cell_type": "markdown",
   "metadata": {},
   "source": [
    "#### events ####\n",
    "\n",
    "To be continued."
   ]
  },
  {
   "cell_type": "markdown",
   "metadata": {},
   "source": [
    "### Using events to extract sub-timeseries ###\n",
    "\n",
    "To be continued."
   ]
  },
  {
   "cell_type": "markdown",
   "metadata": {},
   "source": [
    "### Synchronizing TimeSeries ###\n",
    "\n",
    "To be continued."
   ]
  },
  {
   "cell_type": "markdown",
   "metadata": {},
   "source": [
    "### Subsetting and merging timeseries ###\n",
    "\n",
    "To be continued."
   ]
  },
  {
   "cell_type": "code",
   "execution_count": null,
   "metadata": {},
   "outputs": [],
   "source": []
  }
 ],
 "metadata": {
  "kernelspec": {
   "display_name": "Python 3",
   "language": "python",
   "name": "python3"
  },
  "language_info": {
   "codemirror_mode": {
    "name": "ipython",
    "version": 3
   },
   "file_extension": ".py",
   "mimetype": "text/x-python",
   "name": "python",
   "nbconvert_exporter": "python",
   "pygments_lexer": "ipython3",
   "version": "3.7.6"
  },
  "toc": {
   "base_numbering": "1",
   "nav_menu": {},
   "number_sections": true,
   "sideBar": true,
   "skip_h1_title": true,
   "title_cell": "Table of Contents",
   "title_sidebar": "Contents",
   "toc_cell": true,
   "toc_position": {
    "height": "calc(100% - 180px)",
    "left": "10px",
    "top": "150px",
    "width": "288px"
   },
   "toc_section_display": false,
   "toc_window_display": true
  },
  "toc-autonumbering": false,
  "toc-showcode": false,
  "toc-showmarkdowntxt": false,
  "toc-showtags": false
 },
 "nbformat": 4,
 "nbformat_minor": 4
}
